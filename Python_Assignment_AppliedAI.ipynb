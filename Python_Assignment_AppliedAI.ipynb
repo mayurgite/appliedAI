{
  "nbformat": 4,
  "nbformat_minor": 0,
  "metadata": {
    "colab": {
      "name": "Python_Assignment_AppliedAI.ipynb",
      "provenance": [],
      "collapsed_sections": [],
      "authorship_tag": "ABX9TyMyZc6HhmqcTh04MN6hC96P",
      "include_colab_link": true
    },
    "kernelspec": {
      "name": "python3",
      "display_name": "Python 3"
    }
  },
  "cells": [
    {
      "cell_type": "markdown",
      "metadata": {
        "id": "view-in-github",
        "colab_type": "text"
      },
      "source": [
        "<a href=\"https://colab.research.google.com/github/mayurgite/appliedAI/blob/master/Python_Assignment_AppliedAI.ipynb\" target=\"_parent\"><img src=\"https://colab.research.google.com/assets/colab-badge.svg\" alt=\"Open In Colab\"/></a>"
      ]
    },
    {
      "cell_type": "markdown",
      "metadata": {
        "id": "RoC4F-d-hbdN",
        "colab_type": "text"
      },
      "source": [
        "**Python version:** 3.6.9"
      ]
    },
    {
      "cell_type": "markdown",
      "metadata": {
        "id": "yOKQe-S5fJtK",
        "colab_type": "text"
      },
      "source": [
        "**1. Write a function that inputs a number and prints the multiplication table of that number**"
      ]
    },
    {
      "cell_type": "code",
      "metadata": {
        "id": "0MFyNi8TfbtB",
        "colab_type": "code",
        "colab": {
          "base_uri": "https://localhost:8080/",
          "height": 51
        },
        "outputId": "91a6bc55-c72e-49ee-9356-e8367d86c853"
      },
      "source": [
        "while True:\n",
        "  try:\n",
        "    num = int(input('Enter number:'))\n",
        "    break\n",
        "  except:\n",
        "    print('Invalid number entered, please enter proper number value...')\n",
        "\n",
        "a = [num * i for i in range(1,11)]\n",
        "print(a)"
      ],
      "execution_count": null,
      "outputs": [
        {
          "output_type": "stream",
          "text": [
            "Enter number:5\n",
            "[5, 10, 15, 20, 25, 30, 35, 40, 45, 50]\n"
          ],
          "name": "stdout"
        }
      ]
    },
    {
      "cell_type": "markdown",
      "metadata": {
        "id": "JyxBeOcphphI",
        "colab_type": "text"
      },
      "source": [
        "**2. Write a program to print twin primes less than 1000. If two consecutive odd numbers are\n",
        "both prime then they are known as twin primes**"
      ]
    },
    {
      "cell_type": "code",
      "metadata": {
        "id": "iizimJqJhD6d",
        "colab_type": "code",
        "colab": {
          "base_uri": "https://localhost:8080/",
          "height": 612
        },
        "outputId": "ef4d7399-51d8-49c2-a129-74f28455716d"
      },
      "source": [
        "a = []\n",
        "\n",
        "def isPrime(num):\n",
        "  for i in range(2,num):\n",
        "    if num % i == 0:\n",
        "      return False\n",
        "  \n",
        "  return True\n",
        "\n",
        "def printTwins(a):\n",
        "  for key , num in enumerate(a):\n",
        "    if key < len(a) - 1 and a[key+1] - num == 2:\n",
        "      print(f'({num},{a[key+1]})')\n",
        "\n",
        "def getTwinPrime():\n",
        "\n",
        "  for i in range(2,1000):\n",
        "    if isPrime(i):\n",
        "      a.append(i)\n",
        "  \n",
        "  printTwins(a)\n",
        "\n",
        "getTwinPrime()"
      ],
      "execution_count": null,
      "outputs": [
        {
          "output_type": "stream",
          "text": [
            "(3,5)\n",
            "(5,7)\n",
            "(11,13)\n",
            "(17,19)\n",
            "(29,31)\n",
            "(41,43)\n",
            "(59,61)\n",
            "(71,73)\n",
            "(101,103)\n",
            "(107,109)\n",
            "(137,139)\n",
            "(149,151)\n",
            "(179,181)\n",
            "(191,193)\n",
            "(197,199)\n",
            "(227,229)\n",
            "(239,241)\n",
            "(269,271)\n",
            "(281,283)\n",
            "(311,313)\n",
            "(347,349)\n",
            "(419,421)\n",
            "(431,433)\n",
            "(461,463)\n",
            "(521,523)\n",
            "(569,571)\n",
            "(599,601)\n",
            "(617,619)\n",
            "(641,643)\n",
            "(659,661)\n",
            "(809,811)\n",
            "(821,823)\n",
            "(827,829)\n",
            "(857,859)\n",
            "(881,883)\n"
          ],
          "name": "stdout"
        }
      ]
    },
    {
      "cell_type": "code",
      "metadata": {
        "id": "ZIcm-f19p63u",
        "colab_type": "code",
        "colab": {}
      },
      "source": [
        ""
      ],
      "execution_count": null,
      "outputs": []
    }
  ]
}