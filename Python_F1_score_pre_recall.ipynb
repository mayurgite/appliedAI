{
  "nbformat": 4,
  "nbformat_minor": 0,
  "metadata": {
    "colab": {
      "name": "Python_F1_score_pre_recall.ipynb",
      "provenance": [],
      "collapsed_sections": [],
      "authorship_tag": "ABX9TyP4ayRDtfReCUzHfmJyRhjN",
      "include_colab_link": true
    },
    "kernelspec": {
      "name": "python3",
      "display_name": "Python 3"
    },
    "language_info": {
      "name": "python"
    }
  },
  "cells": [
    {
      "cell_type": "markdown",
      "metadata": {
        "id": "view-in-github",
        "colab_type": "text"
      },
      "source": [
        "<a href=\"https://colab.research.google.com/github/mayurgite/appliedAI/blob/master/Python_F1_score_pre_recall.ipynb\" target=\"_parent\"><img src=\"https://colab.research.google.com/assets/colab-badge.svg\" alt=\"Open In Colab\"/></a>"
      ]
    },
    {
      "cell_type": "code",
      "execution_count": 2,
      "metadata": {
        "id": "06YMkBtxLEVb"
      },
      "outputs": [],
      "source": [
        "# Test data\n",
        "y_true = [1,0,1,1,0,1,0,1,0,1,0,1]\n",
        "y_pred = [1,1,1,1,0,0,1,1,0,0,1,1]"
      ]
    },
    {
      "cell_type": "code",
      "source": [
        "import sys\n",
        "\n",
        "def precision(y_true, y_pred):\n",
        "  tp = 0\n",
        "  tn = 0\n",
        "  fp = 0\n",
        "  fn = 0\n",
        "\n",
        "  if y_true is not None and y_pred is not None and y_true and y_pred:\n",
        "    for (y_t, y_p) in zip(y_true, y_pred):\n",
        "      if(y_t == 0):\n",
        "        if(y_p == 0):\n",
        "          tn += 1\n",
        "        else:\n",
        "          fn += 1\n",
        "      \n",
        "      if(y_t == 1):\n",
        "        if(y_p == 1):\n",
        "          tp += 1\n",
        "        else:\n",
        "          fp += 1\n",
        "  else:\n",
        "    #print('Empty array(s) provided')\n",
        "    sys.exit('Empty array(s) provided')\n",
        "  \n",
        "  return tp,tn,fp,fn"
      ],
      "metadata": {
        "id": "FOFxoz3jYzj2"
      },
      "execution_count": 12,
      "outputs": []
    },
    {
      "cell_type": "code",
      "source": [
        "tp,tn,fp,fn = precision(y_true, y_pred)\n",
        "\n",
        "print('tp = ', tp,', tn = ', tn, ', fp = ', fp,', fn = ', fn)"
      ],
      "metadata": {
        "colab": {
          "base_uri": "https://localhost:8080/"
        },
        "id": "iLV-UTOva_3X",
        "outputId": "f42b51c1-082a-4039-942b-a7ee4cbc2e74"
      },
      "execution_count": 14,
      "outputs": [
        {
          "output_type": "stream",
          "name": "stdout",
          "text": [
            "tp =  5 , tn =  2 , fp =  2 , fn =  3\n"
          ]
        }
      ]
    },
    {
      "cell_type": "code",
      "source": [
        "def prec_recall(tp,tn,fp,fn):\n",
        "  pre = 0\n",
        "  recall = 0\n",
        "\n",
        "  if tp is not None and tn is not None and fp is not None and fn is not None:\n",
        "    # precision\n",
        "    pre = tp/(tp + fp)\n",
        "\n",
        "    #recall\n",
        "    recall = tp/(tp + fn)\n",
        "  else:\n",
        "    sys.exit('Invalid input value provided')\n",
        "    \n",
        "  return pre, recall"
      ],
      "metadata": {
        "id": "kN2_yQUSbUE0"
      },
      "execution_count": 15,
      "outputs": []
    },
    {
      "cell_type": "code",
      "source": [
        "pre, recall = prec_recall(tp,tn,fp,fn)\n",
        "\n",
        "print('Precision = ', pre * 100, '%, Recall = ', recall * 100)"
      ],
      "metadata": {
        "colab": {
          "base_uri": "https://localhost:8080/"
        },
        "id": "tRT7aqe-e3Fo",
        "outputId": "90c6414a-297b-42e1-ec39-d66da23e954e"
      },
      "execution_count": 16,
      "outputs": [
        {
          "output_type": "stream",
          "name": "stdout",
          "text": [
            "Precision =  71.42857142857143 %, Recall =  62.5\n"
          ]
        }
      ]
    },
    {
      "cell_type": "code",
      "source": [
        "def f1_score(pre, recall):\n",
        "  f1_score = 0\n",
        "  \n",
        "  if pre is not None and recall is not None:\n",
        "    f1_score = 2*( (pre * recall)/(pre + recall))\n",
        "  else:\n",
        "    sys.exit('Invalid Presion or Recall value')\n",
        "\n",
        "  return f1_score"
      ],
      "metadata": {
        "id": "JxgRNcIWfPY8"
      },
      "execution_count": 17,
      "outputs": []
    },
    {
      "cell_type": "code",
      "source": [
        "f1 = f1_score(pre, recall)\n",
        "\n",
        "print('F1-score = ', round(f1, 2))"
      ],
      "metadata": {
        "colab": {
          "base_uri": "https://localhost:8080/"
        },
        "id": "JJjQePFng06t",
        "outputId": "b0536f9a-4a5d-4009-b8ef-0e7f42164a80"
      },
      "execution_count": 19,
      "outputs": [
        {
          "output_type": "stream",
          "name": "stdout",
          "text": [
            "F1-score =  0.67\n"
          ]
        }
      ]
    },
    {
      "cell_type": "code",
      "source": [
        ""
      ],
      "metadata": {
        "id": "FbGZtBSBg-q7"
      },
      "execution_count": null,
      "outputs": []
    }
  ]
}