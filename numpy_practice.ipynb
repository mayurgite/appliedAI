{
  "nbformat": 4,
  "nbformat_minor": 0,
  "metadata": {
    "colab": {
      "name": "numpy_practice.ipynb",
      "provenance": [],
      "collapsed_sections": [],
      "authorship_tag": "ABX9TyMm+c8y8Laj26hBW/mutQdF",
      "include_colab_link": true
    },
    "kernelspec": {
      "name": "python3",
      "display_name": "Python 3"
    }
  },
  "cells": [
    {
      "cell_type": "markdown",
      "metadata": {
        "id": "view-in-github",
        "colab_type": "text"
      },
      "source": [
        "<a href=\"https://colab.research.google.com/github/mayurgite/appliedAI/blob/master/numpy_practice.ipynb\" target=\"_parent\"><img src=\"https://colab.research.google.com/assets/colab-badge.svg\" alt=\"Open In Colab\"/></a>"
      ]
    },
    {
      "cell_type": "markdown",
      "metadata": {
        "id": "no0-n96dZnSy",
        "colab_type": "text"
      },
      "source": [
        ""
      ]
    },
    {
      "cell_type": "markdown",
      "metadata": {
        "id": "PtZ31mt1ZqfF",
        "colab_type": "text"
      },
      "source": [
        "**1. Import numpy as np and see the version**"
      ]
    },
    {
      "cell_type": "code",
      "metadata": {
        "id": "hUIUCgh-Zx1L",
        "colab_type": "code",
        "colab": {
          "base_uri": "https://localhost:8080/",
          "height": 34
        },
        "outputId": "662b32b9-572e-455f-f0e0-84f49c546aa9"
      },
      "source": [
        "import numpy as np\n",
        "print(np.__version__)\n"
      ],
      "execution_count": null,
      "outputs": [
        {
          "output_type": "stream",
          "text": [
            "1.18.5\n"
          ],
          "name": "stdout"
        }
      ]
    },
    {
      "cell_type": "markdown",
      "metadata": {
        "id": "iHDe8ainaDNj",
        "colab_type": "text"
      },
      "source": [
        "**2. How to create a 1D array?**"
      ]
    },
    {
      "cell_type": "code",
      "metadata": {
        "id": "TpN2hL13aGE9",
        "colab_type": "code",
        "colab": {
          "base_uri": "https://localhost:8080/",
          "height": 34
        },
        "outputId": "33f78fab-ccaa-4b60-a0ab-88e4523d9ee3"
      },
      "source": [
        "a = np.array([1,2,3,4])\n",
        "\n",
        "print(a)"
      ],
      "execution_count": null,
      "outputs": [
        {
          "output_type": "stream",
          "text": [
            "[1 2 3 4]\n"
          ],
          "name": "stdout"
        }
      ]
    },
    {
      "cell_type": "code",
      "metadata": {
        "id": "2QImS_VIaMRv",
        "colab_type": "code",
        "colab": {
          "base_uri": "https://localhost:8080/",
          "height": 34
        },
        "outputId": "3f25062d-49b0-4d78-fcac-0731df4e2fec"
      },
      "source": [
        "b = np.arange(10)\n",
        "\n",
        "print(b)"
      ],
      "execution_count": null,
      "outputs": [
        {
          "output_type": "stream",
          "text": [
            "[0 1 2 3 4 5 6 7 8 9]\n"
          ],
          "name": "stdout"
        }
      ]
    },
    {
      "cell_type": "markdown",
      "metadata": {
        "id": "IpREi9Lyap8q",
        "colab_type": "text"
      },
      "source": [
        "**3. How to create a boolean array?**"
      ]
    },
    {
      "cell_type": "code",
      "metadata": {
        "id": "x2PwqLbxatYX",
        "colab_type": "code",
        "colab": {
          "base_uri": "https://localhost:8080/",
          "height": 34
        },
        "outputId": "dee32e7a-8461-46e2-95a5-f3c43767ff7b"
      },
      "source": [
        "a = np.array([True,False])\n",
        "print(a)"
      ],
      "execution_count": null,
      "outputs": [
        {
          "output_type": "stream",
          "text": [
            "[ True False]\n"
          ],
          "name": "stdout"
        }
      ]
    },
    {
      "cell_type": "code",
      "metadata": {
        "id": "DYr2xdXca5_U",
        "colab_type": "code",
        "colab": {}
      },
      "source": [
        ""
      ],
      "execution_count": null,
      "outputs": []
    }
  ]
}